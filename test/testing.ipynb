{
 "cells": [
  {
   "cell_type": "code",
   "execution_count": null,
   "metadata": {},
   "outputs": [
    {
     "name": "stdout",
     "output_type": "stream",
     "text": [
      "Proses pre-processing selesai, file telah disimpan sebagai 'pre_processing_data.csv'\n"
     ]
    }
   ],
   "source": [
    "#step 1 preprocessing data\n",
    "\n",
    "# Import library\n",
    "import pandas as pd\n",
    "\n",
    "# Membaca dataset dari file .tsv\n",
    "raw_data = pd.read_csv(r'E:\\Bebeb\\NEW\\AES\\data\\asap-aes\\training_set_rel3.tsv', sep='\\t', encoding='ISO-8859-1')\n",
    "\n",
    "# Menyaring data untuk hanya mengambil essay_set dengan nilai 7\n",
    "filtered_dataset = raw_data[raw_data['essay_set'] == 7].copy()\n",
    "\n",
    "# Menyimpan dataset yang telah disaring ke dalam file CSV\n",
    "filtered_dataset.to_csv('aes_dataset_value_7.csv', index=False)\n",
    "\n",
    "# Menentukan kolom yang akan digabungkan untuk skor Struktur\n",
    "skor_struktur = ['rater1_trait1', 'rater1_trait2', 'rater1_trait3', 'rater2_trait1', 'rater2_trait2', 'rater2_trait3']\n",
    "\n",
    "# Menghitung skor struktur sebagai rata-rata dari 6 karakteristik yang ada\n",
    "filtered_dataset.loc[:, 'skor_struktur'] = filtered_dataset[skor_struktur].sum(axis=1) / len(skor_struktur)\n",
    "\n",
    "# Menentukan kolom yang akan digabungkan untuk skor Tata Bahasa\n",
    "skor_tata_bahasa = ['rater1_trait4', 'rater2_trait4']\n",
    "\n",
    "# Menghitung skor tata bahasa sebagai rata-rata dari 2 karakteristik yang ada\n",
    "filtered_dataset.loc[:, 'skor_tata_bahasa'] = filtered_dataset[skor_tata_bahasa].sum(axis=1) / len(skor_tata_bahasa)\n",
    "\n",
    "# Normalisasi skor Struktur dalam rentang 0-10\n",
    "min_value_struktur = filtered_dataset['skor_struktur'].min()\n",
    "max_value_struktur = filtered_dataset['skor_struktur'].max()\n",
    "filtered_dataset['skor_struktur_normalized'] = 10 * (filtered_dataset['skor_struktur'] - min_value_struktur) / (max_value_struktur - min_value_struktur)\n",
    "filtered_dataset['skor_struktur_normalized'] = filtered_dataset['skor_struktur_normalized'].round(1)\n",
    "\n",
    "# Normalisasi skor Tata Bahasa dalam rentang 0-10\n",
    "min_value_tata_bahasa = filtered_dataset['skor_tata_bahasa'].min()\n",
    "max_value_tata_bahasa = filtered_dataset['skor_tata_bahasa'].max()\n",
    "filtered_dataset['skor_tata_bahasa_normalized'] = 10 * (filtered_dataset['skor_tata_bahasa'] - min_value_tata_bahasa) / (max_value_tata_bahasa - min_value_tata_bahasa)\n",
    "filtered_dataset['skor_tata_bahasa_normalized'] = filtered_dataset['skor_tata_bahasa_normalized'].round(1)\n",
    "\n",
    "# Pilih kolom-kolom yang relevan untuk disimpan dalam dataset hasil pre-processing\n",
    "pre_processing_data = ['essay_id', 'essay_set', 'essay', 'skor_struktur_normalized', 'skor_tata_bahasa_normalized']\n",
    "\n",
    "# Membuat dataset akhir yang berisi data yang sudah diproses\n",
    "final_pre_processing_data = filtered_dataset[pre_processing_data]\n",
    "\n",
    "# Menyimpan data hasil pre-processing ke dalam file CSV\n",
    "final_pre_processing_data.to_csv('pre_processing_data.csv', index=False)\n",
    "\n",
    "print(\"Proses pre-processing selesai, file telah disimpan sebagai 'pre_processing_data.csv'\")\n"
   ]
  },
  {
   "cell_type": "code",
   "execution_count": null,
   "metadata": {},
   "outputs": [
    {
     "name": "stdout",
     "output_type": "stream",
     "text": [
      "CUDA is not available.\n"
     ]
    }
   ],
   "source": [
    "#step 2 modul penilaian struktur\n",
    "\n",
    "#import library\n"
   ]
  }
 ],
 "metadata": {
  "kernelspec": {
   "display_name": ".venv",
   "language": "python",
   "name": "python3"
  },
  "language_info": {
   "codemirror_mode": {
    "name": "ipython",
    "version": 3
   },
   "file_extension": ".py",
   "mimetype": "text/x-python",
   "name": "python",
   "nbconvert_exporter": "python",
   "pygments_lexer": "ipython3",
   "version": "3.10.0"
  }
 },
 "nbformat": 4,
 "nbformat_minor": 2
}
